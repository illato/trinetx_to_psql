{
 "cells": [
  {
   "cell_type": "markdown",
   "id": "4ede6bc2-16f4-405b-a2fd-565eacb09cbb",
   "metadata": {},
   "source": [
    "---\n",
    "\n",
    "Some/all notebooks were run on a logon/interactive node (extrememly limited resources).  \n",
    "\n",
    "---"
   ]
  },
  {
   "cell_type": "markdown",
   "id": "e61d7831-0da2-4141-a12d-4a3cfd18b2c3",
   "metadata": {},
   "source": [
    "To speed this up you can run this notebook on a compute node. \n",
    "\n",
    "### If you already followed the steps in `2__preprocess_CSVs.ipynb`, then you can skip to **PostgreSQL**\n",
    "\n",
    "Do this by being logged into an interactive node with 2 terminals open:  \n",
    "\n",
    "---\n",
    "---\n",
    "\n",
    "Terminal 1:\n",
    "\n",
    "---\n",
    "\n",
    "(may want to increase time to be safe, as below is just an example)  \n",
    "\n",
    "`salloc --time=6:00:00 --ntasks=1 --cpus-per-task=64 --nodes=1 --account=bmi_facelli-np --partition=bmi_facelli-np`  \n",
    "\n",
    "The terminal returns when resources are allocated and further comamands will be executed on the compute node.  \n",
    "\n",
    "`hostname -f`  \n",
    "`<compute node name>` (copy this to clipboard)  \n",
    "\n",
    "`export XDG_RUNTIME_DIR=\"\"`  \n",
    "\n",
    "`conda activate jupy2` (activate your conda env or venv that has jupyter/etc. dependencies)  \n",
    "\n",
    "`jupyter notebook --no-browser --port=8889`  \n",
    "\n",
    "----\n",
    "---\n",
    "\n",
    "Terminal 2: \n",
    "\n",
    "---\n",
    "\n",
    "`google-chrome &`  \n",
    "\n",
    "`ssh -N -L localhost:8888:localhost:8889 <compute node name>`  \n",
    "\n",
    "Now, Chrome should open on your interactive node and you can copy the jupyter link (just change `...:8889/tree...` to `...:8888/lab...`) from the compute node terminal to access/create your notebooks/etc.  \n",
    "\n",
    "---\n",
    "---\n",
    "---"
   ]
  },
  {
   "cell_type": "markdown",
   "id": "dbe28f89-53f4-4726-bb62-1ddd9afda72c",
   "metadata": {},
   "source": [
    "**PostgreSQL**\n",
    "\n",
    "__Prior to this (or through a new terminal in Jupyter)__, you will need to initialize/create a PostgreSQL DB (adjust paths/names as necessary):  \n",
    "\n",
    "---\n",
    "\n",
    "`cd /uufs/chpc.utah.edu/common/home/u0740821/dissertation/data/diabetes`  \n",
    "\n",
    "`mkdir -p pgsql/data`  \n",
    "\n",
    "`module load postgresql/15.2`  \n",
    "\n",
    "`initdb -D ./pgsql/data`  \n",
    "\n",
    "`pg_ctl -D ./pgsql/data -l logfile start`  \n",
    "\n",
    "`createdb diabetes`  \n",
    "\n",
    "`psql -d diabetes`  \n",
    "\n",
    "`GRANT ALL PRIVILEGES ON DATABASE diabetes TO <uID>;`  \n",
    "`\\q`  \n",
    "\n",
    "But don't close the terminal, we will use it later\n",
    "\n",
    "---"
   ]
  },
  {
   "cell_type": "markdown",
   "id": "3217dc93-7a9a-49ca-b261-452347ef13b3",
   "metadata": {},
   "source": [
    "---\n",
    "\n",
    "__Prior to this (or through a new terminal in Jupyter)__, you will also need to extract the `.zip` file containing all your TriNetX CSVs:  \n",
    "\n",
    "`unzip -l your_zip_file.zip`  \n",
    "\n",
    "This will show you what files are contained in the zip.  \n",
    "\n",
    "`unzip yourfile.zip patient.csv diagnosis.csv -d /path/to/destination` (recommend `/scratch/general/vast/<your user ID>`)  \n",
    "\n",
    "---"
   ]
  },
  {
   "cell_type": "markdown",
   "id": "5d6e093b-8ff4-4f65-b587-7c023ccdacbe",
   "metadata": {},
   "source": [
    "---\n",
    "---\n"
   ]
  },
  {
   "cell_type": "markdown",
   "id": "a80cccc5-f57b-4ffb-aa21-5c8bc0e3539a",
   "metadata": {
    "jp-MarkdownHeadingCollapsed": true,
    "tags": []
   },
   "source": [
    "# `cat /uufs/chpc.utah.edu/common/home/u0740821/dissertation/data/diabetes/create.sql`\n",
    "---"
   ]
  },
  {
   "cell_type": "markdown",
   "id": "f0b4dd5d-3abb-43f9-9ccc-d7262284ffd5",
   "metadata": {},
   "source": [
    "---\n",
    "```\n",
    "DROP TABLE IF EXISTS diagnosis;\n",
    "CREATE TABLE diagnosis (\n",
    "  patient_id VARCHAR(200),\n",
    "  encounter_id VARCHAR(200),\n",
    "  code_system VARCHAR(50),\n",
    "  code VARCHAR(100),\n",
    "  principal_diagnosis_indicator VARCHAR(10),\n",
    "  admitting_diagnosis VARCHAR(1),\n",
    "  reason_for_visit VARCHAR(1),\n",
    "  date DATE,\n",
    "  derived_by_TriNetX BOOLEAN,\n",
    "  source_id VARCHAR(200)\n",
    ");\n",
    "\n",
    "\n",
    "DROP TABLE IF EXISTS encounter;\n",
    "CREATE TABLE encounter (\n",
    "  encounter_id VARCHAR(200),\n",
    "  patient_id VARCHAR(200),\n",
    "  start_date DATE,\n",
    "  end_date DATE,\n",
    "  type VARCHAR(50),\n",
    "  start_date_derived_by_TriNetX BOOLEAN,\n",
    "  end_date_derived_by_TriNetX BOOLEAN,\n",
    "  derived_by_TriNetX BOOLEAN,\n",
    "  source_id VARCHAR(200)\n",
    ");\n",
    "\n",
    "\n",
    "DROP TABLE IF EXISTS lab_result;\n",
    "CREATE TABLE lab_result (\n",
    "  patient_id VARCHAR(200),\n",
    "  encounter_id VARCHAR(200),\n",
    "  code_system VARCHAR(50),\n",
    "  code VARCHAR(100),\n",
    "  date DATE,\n",
    "  lab_result_num_val FLOAT,\n",
    "  lab_result_text_val VARCHAR(100),\n",
    "  units_of_measure VARCHAR(40),\n",
    "  derived_by_TriNetX BOOLEAN,\n",
    "  source_id VARCHAR(200)\n",
    ");\n",
    "\n",
    "\n",
    "DROP TABLE IF EXISTS medication;\n",
    "CREATE TABLE medication (\n",
    "  patient_id VARCHAR(200),\n",
    "  encounter_id VARCHAR(200),\n",
    "  unique_id VARCHAR(200),\n",
    "  code_system VARCHAR(50),\n",
    "  code VARCHAR(100),\n",
    "  start_date DATE,\n",
    "  route VARCHAR(200),\n",
    "  brand VARCHAR(200),\n",
    "  strength VARCHAR(200),\n",
    "  derived_by_TriNetX BOOLEAN,\n",
    "  source_id VARCHAR(200)\n",
    ");\n",
    "\n",
    "\n",
    "DROP TABLE IF EXISTS patient_demographic;\n",
    "CREATE TABLE patient_demographic (\n",
    "  patient_id VARCHAR(200),\n",
    "  sex VARCHAR(50),\n",
    "  race VARCHAR(180),\n",
    "  ethnicity VARCHAR(180),\n",
    "  marital_status VARCHAR(180),\n",
    "  year_of_birth BIGINT,\n",
    "  reason_yob_missing VARCHAR(50),\n",
    "  death_date_source_id VARCHAR(200),\n",
    "  month_year_death BIGINT,\n",
    "  patient_regional_location VARCHAR(100),\n",
    "  source_id VARCHAR(50)\n",
    ");\n",
    "\n",
    "\n",
    "DROP TABLE IF EXISTS procedure;\n",
    "CREATE TABLE procedure (\n",
    "  patient_id VARCHAR(200),\n",
    "  encounter_id VARCHAR(200),\n",
    "  code_system VARCHAR(50),\n",
    "  code VARCHAR(100),\n",
    "  principal_procedure_indicator VARCHAR(10),\n",
    "  date DATE,\n",
    "  derived_by_TriNetX BOOLEAN,\n",
    "  source_id VARCHAR(180)\n",
    ");\n",
    "\n",
    "\n",
    "DROP TABLE IF EXISTS vital_sign;\n",
    "CREATE TABLE vital_sign (\n",
    "  patient_id VARCHAR(200),\n",
    "  encounter_id VARCHAR(200),\n",
    "  code_system VARCHAR(50),\n",
    "  code VARCHAR(100),\n",
    "  date DATE,\n",
    "  value FLOAT,\n",
    "  text_value VARCHAR(1020),\n",
    "  units_of_measure VARCHAR(40),\n",
    "  derived_by_TriNetX BOOLEAN,\n",
    "  source_id VARCHAR(200)\n",
    ");\n",
    "```"
   ]
  },
  {
   "cell_type": "markdown",
   "id": "81b2a14e-4479-4cae-8544-9dbee6c39a4d",
   "metadata": {},
   "source": [
    "---\n",
    "---\n"
   ]
  },
  {
   "cell_type": "markdown",
   "id": "bc56591e-b552-4fa7-99a7-5af34324a3fc",
   "metadata": {
    "jp-MarkdownHeadingCollapsed": true
   },
   "source": [
    "# `cat /uufs/chpc.utah.edu/common/home/u0740821/dissertation/data/diabetes/load.sql`\n",
    "---"
   ]
  },
  {
   "cell_type": "markdown",
   "id": "9aa5f559-1661-4aae-b16c-b9fee9981262",
   "metadata": {},
   "source": [
    "---\n",
    "```\n",
    "-----------------------------------------\n",
    "-- Load data into the diabetes schemas --\n",
    "-----------------------------------------\n",
    "\n",
    "-- To run from a terminal:\n",
    "--  psql \"dbname=<DBNAME> user=<USER>\" -v diabetes_data_dir=<PATH TO DATA DIR> -f load.sql\n",
    "-- The script assumes the files are in the diabetes_data_dir\n",
    "\\cd :diabetes_data_dir\n",
    "\n",
    "-- making sure correct encoding is defined as -utf8- \n",
    "SET CLIENT_ENCODING TO 'utf8';\n",
    "\\COPY patient_demographic (patient_id, sex, race, ethnicity, year_of_birth, patient_regional_location) FROM 'patient_sub_col.csv' DELIMITER ',' CSV HEADER NULL '';\n",
    "\\COPY encounter (encounter_id, patient_id, start_date, type) FROM 'encounter_sub_col.csv' DELIMITER ',' CSV HEADER NULL '';\n",
    "\\COPY lab_result (patient_id, encounter_id, code, date, lab_result_num_val, lab_result_text_val, units_of_measure) FROM 'lab_result._sub_colcsv' DELIMITER ',' CSV HEADER NULL '';\n",
    "\\COPY diagnosis (patient_id, encounter_id, code, date) FROM 'diagnosis_sub_col.csv' DELIMITER ',' CSV HEADER NULL '';\n",
    "\\COPY procedure (patient_id, encounter_id, code, date) FROM 'procedure_sub_col.csv' DELIMITER ',' CSV HEADER NULL '';\n",
    "\\COPY medication (patient_id, encounter_id, code, start_date) FROM 'medication_ingredient_sub_col.csv' DELIMITER ',' CSV HEADER NULL '';\n",
    "\\COPY vital_sign (patient_id, encounter_id, code, date, value, text_value, units_of_measure, code_system) FROM 'vitals_signs_sub_col.csv' DELIMITER ',' CSV HEADER NULL '';\n",
    "[u0740821@notchpeak1:postgres]$ psql -d diabetes -v ON_ERROR_STOP=1 -v diabetes_data_dir=/scratch/general/vast/u0740821/ -f /uufs/chpc.utah.edu/common/home/u0740821/dissertation/data/diabetes/load.sql \n",
    "SET\n",
    "psql:/uufs/chpc.utah.edu/common/home/u0740821/dissertation/data/diabetes/load.sql:12: ERROR:  invalid input syntax for type bigint: \"1953.0\"\n",
    "CONTEXT:  COPY patient_demographic, line 2, column year_of_birth: \"1953.0\"\n",
    "[u0740821@notchpeak1:postgres]$ cat /uufs/chpc.utah.edu/common/home/u0740821/dissertation/data/diabetes/load.sql \n",
    "-----------------------------------------\n",
    "-- Load data into the diabetes schemas --\n",
    "-----------------------------------------\n",
    "\n",
    "-- To run from a terminal:\n",
    "--  psql \"dbname=<DBNAME> user=<USER>\" -v diabetes_data_dir=<PATH TO DATA DIR> -f load.sql\n",
    "-- The script assumes the files are in the diabetes_data_dir\n",
    "\\cd :diabetes_data_dir\n",
    "\n",
    "-- making sure correct encoding is defined as -utf8- \n",
    "SET CLIENT_ENCODING TO 'utf8';\n",
    "\\COPY patient_demographic (patient_id, sex, race, ethnicity, year_of_birth, patient_regional_location) FROM 'patient_sub_col.csv' DELIMITER ',' CSV HEADER NULL '';\n",
    "\\COPY encounter (encounter_id, patient_id, start_date, type) FROM 'encounter_sub_col.csv' DELIMITER ',' CSV HEADER NULL '';\n",
    "\\COPY lab_result (patient_id, encounter_id, code, date, lab_result_num_val, lab_result_text_val, units_of_measure) FROM 'lab_result._sub_colcsv' DELIMITER ',' CSV HEADER NULL '';\n",
    "\\COPY diagnosis (patient_id, encounter_id, code, date) FROM 'diagnosis_sub_col.csv' DELIMITER ',' CSV HEADER NULL '';\n",
    "\\COPY procedure (patient_id, encounter_id, code, date) FROM 'procedure_sub_col.csv' DELIMITER ',' CSV HEADER NULL '';\n",
    "\\COPY medication (patient_id, encounter_id, code, start_date) FROM 'medication_ingredient_sub_col.csv' DELIMITER ',' CSV HEADER NULL '';\n",
    "\\COPY vital_sign (patient_id, encounter_id, code, date, value, text_value, units_of_measure, code_system) FROM 'vitals_signs_sub_col.csv' DELIMITER ',' CSV HEADER NULL '';\n",
    "```"
   ]
  },
  {
   "cell_type": "markdown",
   "id": "50be6a74-0c20-466c-ae2e-8b7a4904b608",
   "metadata": {},
   "source": [
    "---\n",
    "---\n"
   ]
  },
  {
   "cell_type": "markdown",
   "id": "dc9f62cd-46f7-410c-980c-436ec532b48c",
   "metadata": {
    "tags": []
   },
   "source": [
    "# Run `create.sql`"
   ]
  },
  {
   "cell_type": "markdown",
   "id": "2af074c7-b7b2-47ba-81a0-4b02d5fa4c21",
   "metadata": {},
   "source": [
    "---"
   ]
  },
  {
   "cell_type": "markdown",
   "id": "76d25246-bf2e-47ee-b0ca-18263326ced5",
   "metadata": {},
   "source": [
    "## `psql -d diabetes -v ON_ERROR_STOP=1 -v diabetes_data_dir=<replace with path to directory containing extracted CSV file(s)/etc.> -f <replace with path to 'create.sql'>`\n",
    "\n",
    "---\n",
    "```\n",
    "DROP TABLE\n",
    "CREATE TABLE\n",
    "DROP TABLE\n",
    "CREATE TABLE\n",
    "DROP TABLE\n",
    "CREATE TABLE\n",
    "DROP TABLE\n",
    "CREATE TABLE\n",
    "DROP TABLE\n",
    "CREATE TABLE\n",
    "DROP TABLE\n",
    "CREATE TABLE\n",
    "DROP TABLE\n",
    "CREATE TABLE\n",
    "```"
   ]
  },
  {
   "cell_type": "markdown",
   "id": "ab5e47c9-e42d-47e9-a25c-0deb7c899e5d",
   "metadata": {},
   "source": [
    "---\n",
    "---\n"
   ]
  },
  {
   "cell_type": "markdown",
   "id": "0f875369-e7c9-4722-9e07-157de6acdb1b",
   "metadata": {
    "tags": []
   },
   "source": [
    "# Run `load.sql`"
   ]
  },
  {
   "cell_type": "markdown",
   "id": "e84d96cc-3a03-4d9d-9f1c-c76380b57efc",
   "metadata": {},
   "source": [
    "---"
   ]
  },
  {
   "cell_type": "markdown",
   "id": "f7a40830-9b62-4435-a317-31b71d5c2e4c",
   "metadata": {},
   "source": [
    "## `psql -d diabetes -v ON_ERROR_STOP=1 -v diabetes_data_dir=<replace with path to directory containing extracted CSV file(s)/etc.> -f <replace with path to 'load.sql'>`\n",
    "---\n",
    "```\n",
    "SET\n",
    "COPY 6108666\n",
    "COPY 1274437790\n",
    "COPY 5713861360\n",
    "COPY 2653978299\n",
    "COPY 1570070266\n",
    "COPY 5674491072\n",
    "COPY 2033768504\n",
    "```"
   ]
  },
  {
   "cell_type": "markdown",
   "id": "3fb19225-4406-4f54-8ff1-31c6b7209d19",
   "metadata": {},
   "source": [
    "---\n",
    "---\n"
   ]
  },
  {
   "cell_type": "markdown",
   "id": "e518e100-3c3e-429a-a25b-4be1c041d9f9",
   "metadata": {
    "tags": []
   },
   "source": [
    "# Run `validate.sql`"
   ]
  },
  {
   "cell_type": "markdown",
   "id": "777d8a58-d81c-4def-9221-bc68f04d357d",
   "metadata": {},
   "source": [
    "---"
   ]
  },
  {
   "cell_type": "markdown",
   "id": "4183fd4e-ea9c-4faa-abdc-1bf1d0247fd9",
   "metadata": {},
   "source": [
    "## `psql -d diabetes -v ON_ERROR_STOP=1 -v diabetes_data_dir=<replace with path to directory containing extracted CSV file(s)/etc.> -f <replace with path to 'validate.sql'>`\n",
    "---\n",
    "```\n",
    "         tbl         | expected_count | observed_count | row_count_check \n",
    "---------------------+----------------+----------------+-----------------\n",
    " diagnosis           |     2653978299 |     2653978299 | PASSED\n",
    " encounter           |     1274437790 |     1274437790 | PASSED\n",
    " lab_result          |     5713861360 |     5713861360 | PASSED\n",
    " medication          |     5674491072 |     5674491072 | PASSED\n",
    " patient_demographic |        6108666 |        6108666 | PASSED\n",
    " procedure           |     1570070266 |     1570070266 | PASSED\n",
    " vital_sign          |     2033768504 |     2033768504 | PASSED\n",
    "(7 rows)\n",
    "```"
   ]
  },
  {
   "cell_type": "markdown",
   "id": "687dba8e-d7b3-4b91-80d9-40e212854c30",
   "metadata": {},
   "source": [
    "---"
   ]
  },
  {
   "cell_type": "markdown",
   "id": "ea557000-26f8-4dc8-a712-a7097c478375",
   "metadata": {},
   "source": [
    "---"
   ]
  },
  {
   "cell_type": "markdown",
   "id": "2725a457-de89-4ed5-8b42-9d755708ebc7",
   "metadata": {},
   "source": [
    "---"
   ]
  },
  {
   "cell_type": "markdown",
   "id": "9f80d7d6-dcbb-45f8-b2f4-07a3ec648594",
   "metadata": {
    "tags": []
   },
   "source": [
    "\n",
    "# Check Sizes\n"
   ]
  },
  {
   "cell_type": "markdown",
   "id": "b297a9c9-1324-4ce2-8b02-36e847d2f2e4",
   "metadata": {},
   "source": [
    "---"
   ]
  },
  {
   "cell_type": "code",
   "execution_count": 112,
   "id": "b16bcc7b-eddc-4c10-a114-2e1f189779dd",
   "metadata": {},
   "outputs": [
    {
     "name": "stdout",
     "output_type": "stream",
     "text": [
      "1.2T\tpgsql/\n"
     ]
    }
   ],
   "source": [
    "!du -sh pgsql/"
   ]
  },
  {
   "cell_type": "code",
   "execution_count": 113,
   "id": "fa5e03e2-d814-442e-b8f5-c1101760001a",
   "metadata": {},
   "outputs": [
    {
     "name": "stdout",
     "output_type": "stream",
     "text": [
      "75G\t/scratch/general/vast/u0740821/diagnosis_sub_col.csv\n",
      "35G\t/scratch/general/vast/u0740821/encounter_sub_col.csv\n",
      "229G\t/scratch/general/vast/u0740821/lab_result_sub_col.csv\n",
      "154G\t/scratch/general/vast/u0740821/medication_ingredient_sub_col.csv\n",
      "285M\t/scratch/general/vast/u0740821/patient_sub_col.csv\n",
      "44G\t/scratch/general/vast/u0740821/procedure_sub_col.csv\n",
      "96G\t/scratch/general/vast/u0740821/vitals_signs_sub_col.csv\n"
     ]
    }
   ],
   "source": [
    "!du -sh /scratch/general/vast/u0740821/*sub*\n"
   ]
  }
 ],
 "metadata": {
  "kernelspec": {
   "display_name": "Python 3 (ipykernel)",
   "language": "python",
   "name": "python3"
  },
  "language_info": {
   "codemirror_mode": {
    "name": "ipython",
    "version": 3
   },
   "file_extension": ".py",
   "mimetype": "text/x-python",
   "name": "python",
   "nbconvert_exporter": "python",
   "pygments_lexer": "ipython3",
   "version": "3.9.12"
  }
 },
 "nbformat": 4,
 "nbformat_minor": 5
}
