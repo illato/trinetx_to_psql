{
 "cells": [
  {
   "cell_type": "markdown",
   "id": "f5abf858-7faf-4a46-9f0b-389b6866e5c3",
   "metadata": {},
   "source": [
    "---\n",
    "\n",
    "Some/all notebooks were run on a logon/interactive node (extrememly limited resources).  \n",
    "\n",
    "---"
   ]
  },
  {
   "cell_type": "markdown",
   "id": "d64c0b52-e3eb-4bda-a84a-bde61cf66c0c",
   "metadata": {},
   "source": [
    "To speed this up you can run this notebook on a compute node. \n",
    "\n",
    "Do this by being logged into an interactive node with 2 terminals open:  \n",
    "\n",
    "---\n",
    "---\n",
    "\n",
    "Terminal 1:\n",
    "\n",
    "---\n",
    "\n",
    "(may want to increase time to be safe, as below is just an example)  \n",
    "\n",
    "`salloc --time=6:00:00 --ntasks=1 --cpus-per-task=64 --nodes=1 --account=bmi_facelli-np --partition=bmi_facelli-np`  \n",
    "\n",
    "The terminal returns when resources are allocated and further comamands will be executed on the compute node.  \n",
    "\n",
    "`hostname -f`  \n",
    "`<compute node name>` (copy this to clipboard)  \n",
    "\n",
    "`export XDG_RUNTIME_DIR=\"\"`  \n",
    "\n",
    "`conda activate jupy2` (activate your conda env or venv that has jupyter/etc. dependencies)  \n",
    "\n",
    "`jupyter notebook --no-browser --port=8889`  \n",
    "\n",
    "----\n",
    "---\n",
    "\n",
    "Terminal 2: \n",
    "\n",
    "---\n",
    "\n",
    "`google-chrome &`  \n",
    "\n",
    "`ssh -N -L localhost:8888:localhost:8889 <compute node name>`  \n",
    "\n",
    "Now, Chrome should open on your interactive node and you can copy the jupyter link (just change `...:8889/tree...` to `...:8888/lab...`) from the compute node terminal to access/create your notebooks/etc.  \n",
    "\n",
    "---\n",
    "---\n",
    "---"
   ]
  },
  {
   "cell_type": "markdown",
   "id": "448036ae-db79-4a5d-a084-01b42f5e6b0d",
   "metadata": {},
   "source": [
    "Prior to this (or through a new terminal in Jupyter), you will need to initialize/create a PostgreSQL DB (adjust paths/names as necessary):  \n",
    "\n",
    "---\n",
    "\n",
    "`cd /uufs/chpc.utah.edu/common/home/u0740821/dissertation/data/diabetes`  \n",
    "\n",
    "`mkdir -p pgsql/data`  \n",
    "\n",
    "`module load postgresql/15.2`  \n",
    "\n",
    "`initdb -D /uufs/chpc.utah.edu/common/home/u0740821/dissertation/data/diabetes/pgsql/data`  \n",
    "\n",
    "`pg_ctl -D /uufs/chpc.utah.edu/common/home/u0740821/dissertation/data/diabetes/pgsql/data -l logfile start`  \n",
    "\n",
    "`createdb diabetes`  \n",
    "\n",
    "`psql -d diabetes`  \n",
    "\n",
    "`GRANT ALL PRIVILEGES ON DATABASE diabetes TO u0740821;`  \n",
    "`\\q`  \n",
    "\n",
    "---"
   ]
  },
  {
   "cell_type": "markdown",
   "id": "6d98db63-df20-418e-b651-356fbfa49d89",
   "metadata": {},
   "source": [
    "---\n",
    "\n",
    "You will also need to extract the `.zip` file containing all your TriNetX CSVs:  \n",
    "\n",
    "`unzip -l your_zip_file.zip`  \n",
    "\n",
    "This will show you what files are contained in the zip.  \n",
    "\n",
    "`unzip yourfile.zip patient.csv diagnosis.csv -d /path/to/destination` (recommend `/scratch/general/vast/<your user ID>`)  \n",
    "\n",
    "---"
   ]
  },
  {
   "cell_type": "markdown",
   "id": "9b66830f-310d-4ab9-8e61-7af9391a229e",
   "metadata": {},
   "source": [
    "---"
   ]
  },
  {
   "cell_type": "markdown",
   "id": "3031ec7d-6838-4fb3-a831-3a268e3fc948",
   "metadata": {
    "tags": []
   },
   "source": [
    "# Generate `constraint.sql`"
   ]
  },
  {
   "cell_type": "markdown",
   "id": "719ea4d7-7192-4413-8133-8903c8ddd8c7",
   "metadata": {},
   "source": [
    "---"
   ]
  },
  {
   "cell_type": "markdown",
   "id": "2f2de180-040a-4f85-8b1a-42fca79df29a",
   "metadata": {},
   "source": [
    "__Note:__  \n",
    "  \n",
    "`--` is a comment (will not be executed) in `psql`. Add/remove commenting as appropriate.\n"
   ]
  },
  {
   "cell_type": "code",
   "execution_count": 6,
   "id": "3e17c1b1-ace4-4221-bc96-35436b87490a",
   "metadata": {},
   "outputs": [
    {
     "name": "stdout",
     "output_type": "stream",
     "text": [
      "----------------------------------------\n",
      "-- Add constraints to the tables --\n",
      "----------------------------------------\n",
      "\n",
      "-- USING MINIMAL FURTHER BELOW INSTEAD PER DUPLICATES \n",
      "--   (e.g., some encounter_id's are present in more than one row,\n",
      "--    even though data dictionary indicates it is encounter table PK)\n",
      "-- \n",
      "-- -- Patient Demographic Constraints\n",
      "-- ALTER TABLE patient_demographic DROP CONSTRAINT IF EXISTS pk_patient_demographic CASCADE;\n",
      "-- ALTER TABLE patient_demographic\n",
      "--     ADD CONSTRAINT pk_patient_demographic PRIMARY KEY (patient_id);\n",
      "-- \n",
      "-- \n",
      "-- -- Encounter Constraints\n",
      "-- ALTER TABLE encounter DROP CONSTRAINT IF EXISTS pk_encounter CASCADE;\n",
      "-- ALTER TABLE encounter DROP CONSTRAINT IF EXISTS fk_encounter_patient CASCADE;\n",
      "-- ALTER TABLE encounter\n",
      "--     ADD CONSTRAINT pk_encounter PRIMARY KEY (encounter_id),\n",
      "--     ADD CONSTRAINT fk_encounter_patient FOREIGN KEY (patient_id) REFERENCES patient_demographic(patient_id);\n",
      "-- \n",
      "-- -- Lab Result Constraints\n",
      "-- ALTER TABLE lab_result DROP CONSTRAINT IF EXISTS fk_lab_result_patient CASCADE;\n",
      "-- ALTER TABLE lab_result DROP CONSTRAINT IF EXISTS fk_lab_result_encounter CASCADE;\n",
      "-- ALTER TABLE lab_result\n",
      "--     ADD CONSTRAINT fk_lab_result_patient FOREIGN KEY (patient_id) REFERENCES patient_demographic(patient_id),\n",
      "--     ADD CONSTRAINT fk_lab_result_encounter FOREIGN KEY (encounter_id) REFERENCES encounter(encounter_id);\n",
      "-- \n",
      "-- -- Diagnosis Constraints\n",
      "-- ALTER TABLE diagnosis DROP CONSTRAINT IF EXISTS fk_diagnosis_patient CASCADE;\n",
      "-- ALTER TABLE diagnosis DROP CONSTRAINT IF EXISTS fk_diagnosis_encounter CASCADE;\n",
      "-- ALTER TABLE diagnosis\n",
      "--     ADD CONSTRAINT fk_diagnosis_patient FOREIGN KEY (patient_id) REFERENCES patient_demographic(patient_id),\n",
      "--     ADD CONSTRAINT fk_diagnosis_encounter FOREIGN KEY (encounter_id) REFERENCES encounter(encounter_id);\n",
      "-- \n",
      "-- -- Procedure Constraints\n",
      "-- ALTER TABLE procedure DROP CONSTRAINT IF EXISTS fk_procedure_patient CASCADE;\n",
      "-- ALTER TABLE procedure DROP CONSTRAINT IF EXISTS fk_procedure_encounter CASCADE;\n",
      "-- ALTER TABLE procedure\n",
      "--     ADD CONSTRAINT fk_procedure_patient FOREIGN KEY (patient_id) REFERENCES patient_demographic(patient_id),\n",
      "--     ADD CONSTRAINT fk_procedure_encounter FOREIGN KEY (encounter_id) REFERENCES encounter(encounter_id);\n",
      "-- \n",
      "-- -- Medication Constraints\n",
      "-- ALTER TABLE medication DROP CONSTRAINT IF EXISTS fk_medication_patient CASCADE;\n",
      "-- ALTER TABLE medication DROP CONSTRAINT IF EXISTS fk_medication_encounter CASCADE;\n",
      "-- ALTER TABLE medication\n",
      "--     ADD CONSTRAINT fk_medication_patient FOREIGN KEY (patient_id) REFERENCES patient_demographic(patient_id),\n",
      "--     ADD CONSTRAINT fk_medication_encounter FOREIGN KEY (encounter_id) REFERENCES encounter(encounter_id);\n",
      "-- \n",
      "-- -- Vital Sign Constraints\n",
      "-- ALTER TABLE vital_sign DROP CONSTRAINT IF EXISTS fk_vital_sign_patient CASCADE;\n",
      "-- ALTER TABLE vital_sign DROP CONSTRAINT IF EXISTS fk_vital_sign_encounter CASCADE;\n",
      "-- ALTER TABLE vital_sign\n",
      "--     ADD CONSTRAINT fk_vital_sign_patient FOREIGN KEY (patient_id) REFERENCES patient_demographic(patient_id),\n",
      "--     ADD CONSTRAINT fk_vital_sign_encounter FOREIGN KEY (encounter_id) REFERENCES encounter(encounter_id);\n",
      "\n",
      "-- Patient Demographic Constraints\n",
      "ALTER TABLE patient_demographic DROP CONSTRAINT IF EXISTS pk_patient_demographic CASCADE;\n",
      "ALTER TABLE patient_demographic\n",
      "    ADD CONSTRAINT pk_patient_demographic PRIMARY KEY (patient_id);\n",
      "\n",
      "-- Lab Result Constraints\n",
      "ALTER TABLE lab_result DROP CONSTRAINT IF EXISTS fk_lab_result_patient CASCADE;\n",
      "ALTER TABLE lab_result\n",
      "    ADD CONSTRAINT fk_lab_result_patient FOREIGN KEY (patient_id) REFERENCES patient_demographic(patient_id);\n",
      "\n",
      "-- Diagnosis Constraints\n",
      "ALTER TABLE diagnosis DROP CONSTRAINT IF EXISTS fk_diagnosis_patient CASCADE;\n",
      "ALTER TABLE diagnosis\n",
      "    ADD CONSTRAINT fk_diagnosis_patient FOREIGN KEY (patient_id) REFERENCES patient_demographic(patient_id);\n",
      "\n",
      "-- Medication Constraints\n",
      "ALTER TABLE medication DROP CONSTRAINT IF EXISTS fk_medication_patient CASCADE;\n",
      "ALTER TABLE medication\n",
      "    ADD CONSTRAINT fk_medication_patient FOREIGN KEY (patient_id) REFERENCES patient_demographic(patient_id);\n"
     ]
    }
   ],
   "source": [
    "val = \"\"\"----------------------------------------\n",
    "-- Add constraints to the tables --\n",
    "----------------------------------------\n",
    "\n",
    "-- USING MINIMAL FURTHER BELOW INSTEAD PER DUPLICATES \n",
    "--   (e.g., some encounter_id's are present in more than one row,\n",
    "--    even though data dictionary indicates it is encounter table PK)\n",
    "-- \n",
    "-- -- Patient Demographic Constraints\n",
    "-- ALTER TABLE patient_demographic DROP CONSTRAINT IF EXISTS pk_patient_demographic CASCADE;\n",
    "-- ALTER TABLE patient_demographic\n",
    "--     ADD CONSTRAINT pk_patient_demographic PRIMARY KEY (patient_id);\n",
    "-- \n",
    "-- \n",
    "-- -- Encounter Constraints\n",
    "-- ALTER TABLE encounter DROP CONSTRAINT IF EXISTS pk_encounter CASCADE;\n",
    "-- ALTER TABLE encounter DROP CONSTRAINT IF EXISTS fk_encounter_patient CASCADE;\n",
    "-- ALTER TABLE encounter\n",
    "--     ADD CONSTRAINT pk_encounter PRIMARY KEY (encounter_id),\n",
    "--     ADD CONSTRAINT fk_encounter_patient FOREIGN KEY (patient_id) REFERENCES patient_demographic(patient_id);\n",
    "-- \n",
    "-- -- Lab Result Constraints\n",
    "-- ALTER TABLE lab_result DROP CONSTRAINT IF EXISTS fk_lab_result_patient CASCADE;\n",
    "-- ALTER TABLE lab_result DROP CONSTRAINT IF EXISTS fk_lab_result_encounter CASCADE;\n",
    "-- ALTER TABLE lab_result\n",
    "--     ADD CONSTRAINT fk_lab_result_patient FOREIGN KEY (patient_id) REFERENCES patient_demographic(patient_id),\n",
    "--     ADD CONSTRAINT fk_lab_result_encounter FOREIGN KEY (encounter_id) REFERENCES encounter(encounter_id);\n",
    "-- \n",
    "-- -- Diagnosis Constraints\n",
    "-- ALTER TABLE diagnosis DROP CONSTRAINT IF EXISTS fk_diagnosis_patient CASCADE;\n",
    "-- ALTER TABLE diagnosis DROP CONSTRAINT IF EXISTS fk_diagnosis_encounter CASCADE;\n",
    "-- ALTER TABLE diagnosis\n",
    "--     ADD CONSTRAINT fk_diagnosis_patient FOREIGN KEY (patient_id) REFERENCES patient_demographic(patient_id),\n",
    "--     ADD CONSTRAINT fk_diagnosis_encounter FOREIGN KEY (encounter_id) REFERENCES encounter(encounter_id);\n",
    "-- \n",
    "-- -- Procedure Constraints\n",
    "-- ALTER TABLE procedure DROP CONSTRAINT IF EXISTS fk_procedure_patient CASCADE;\n",
    "-- ALTER TABLE procedure DROP CONSTRAINT IF EXISTS fk_procedure_encounter CASCADE;\n",
    "-- ALTER TABLE procedure\n",
    "--     ADD CONSTRAINT fk_procedure_patient FOREIGN KEY (patient_id) REFERENCES patient_demographic(patient_id),\n",
    "--     ADD CONSTRAINT fk_procedure_encounter FOREIGN KEY (encounter_id) REFERENCES encounter(encounter_id);\n",
    "-- \n",
    "-- -- Medication Constraints\n",
    "-- ALTER TABLE medication DROP CONSTRAINT IF EXISTS fk_medication_patient CASCADE;\n",
    "-- ALTER TABLE medication DROP CONSTRAINT IF EXISTS fk_medication_encounter CASCADE;\n",
    "-- ALTER TABLE medication\n",
    "--     ADD CONSTRAINT fk_medication_patient FOREIGN KEY (patient_id) REFERENCES patient_demographic(patient_id),\n",
    "--     ADD CONSTRAINT fk_medication_encounter FOREIGN KEY (encounter_id) REFERENCES encounter(encounter_id);\n",
    "-- \n",
    "-- -- Vital Sign Constraints\n",
    "-- ALTER TABLE vital_sign DROP CONSTRAINT IF EXISTS fk_vital_sign_patient CASCADE;\n",
    "-- ALTER TABLE vital_sign DROP CONSTRAINT IF EXISTS fk_vital_sign_encounter CASCADE;\n",
    "-- ALTER TABLE vital_sign\n",
    "--     ADD CONSTRAINT fk_vital_sign_patient FOREIGN KEY (patient_id) REFERENCES patient_demographic(patient_id),\n",
    "--     ADD CONSTRAINT fk_vital_sign_encounter FOREIGN KEY (encounter_id) REFERENCES encounter(encounter_id);\n",
    "\n",
    "-- Patient Demographic Constraints\n",
    "ALTER TABLE patient_demographic DROP CONSTRAINT IF EXISTS pk_patient_demographic CASCADE;\n",
    "ALTER TABLE patient_demographic\n",
    "    ADD CONSTRAINT pk_patient_demographic PRIMARY KEY (patient_id);\n",
    "\n",
    "-- Lab Result Constraints\n",
    "ALTER TABLE lab_result DROP CONSTRAINT IF EXISTS fk_lab_result_patient CASCADE;\n",
    "ALTER TABLE lab_result\n",
    "    ADD CONSTRAINT fk_lab_result_patient FOREIGN KEY (patient_id) REFERENCES patient_demographic(patient_id);\n",
    "\n",
    "-- Diagnosis Constraints\n",
    "ALTER TABLE diagnosis DROP CONSTRAINT IF EXISTS fk_diagnosis_patient CASCADE;\n",
    "ALTER TABLE diagnosis\n",
    "    ADD CONSTRAINT fk_diagnosis_patient FOREIGN KEY (patient_id) REFERENCES patient_demographic(patient_id);\n",
    "\n",
    "-- Medication Constraints\n",
    "ALTER TABLE medication DROP CONSTRAINT IF EXISTS fk_medication_patient CASCADE;\n",
    "ALTER TABLE medication\n",
    "    ADD CONSTRAINT fk_medication_patient FOREIGN KEY (patient_id) REFERENCES patient_demographic(patient_id);\n",
    "\"\"\"\n",
    "\n",
    "# Write to SQL file\n",
    "with open('constraint.sql', 'w') as f:\n",
    "    f.write(val)\n",
    "\n",
    "# print(val)\n",
    "!cat constraint.sql"
   ]
  },
  {
   "cell_type": "markdown",
   "id": "1f124ff9-cfc7-4094-953b-d6abc9b0b76a",
   "metadata": {},
   "source": [
    "---"
   ]
  },
  {
   "cell_type": "markdown",
   "id": "342361d1-00f2-4946-b822-794ed8fa423e",
   "metadata": {},
   "source": [
    "---"
   ]
  },
  {
   "cell_type": "markdown",
   "id": "5617528c-fa93-42ab-8549-e4d2ab082741",
   "metadata": {
    "tags": []
   },
   "source": [
    "# Run `constraint.sql`"
   ]
  },
  {
   "cell_type": "markdown",
   "id": "fa538da0-913d-4878-aa66-42e02d456870",
   "metadata": {
    "tags": []
   },
   "source": [
    "## `psql -d diabetes -v ON_ERROR_STOP=1 -v diabetes_data_dir=/scratch/general/vast/u0740821/ -f /uufs/chpc.utah.edu/common/home/u0740821/dissertation/data/diabetes/constraint.sql`\n",
    "---\n",
    "```\n",
    "NOTICE:  constraint \"pk_patient_demographic\" of relation \"patient_demographic\" does not exist, skipping\n",
    "ALTER TABLE\n",
    "ALTER TABLE\n",
    "NOTICE:  constraint \"fk_lab_result_patient\" of relation \"lab_result\" does not exist, skipping\n",
    "ALTER TABLE\n",
    "ALTER TABLE\n",
    "NOTICE:  constraint \"fk_diagnosis_patient\" of relation \"diagnosis\" does not exist, skipping\n",
    "ALTER TABLE\n",
    "ALTER TABLE\n",
    "NOTICE:  constraint \"fk_medication_patient\" of relation \"medication\" does not exist, skipping\n",
    "ALTER TABLE\n",
    "ALTER TABLE\n",
    "```"
   ]
  },
  {
   "cell_type": "markdown",
   "id": "695e2ae0-c718-47db-9991-fa9b7f10bb9d",
   "metadata": {},
   "source": [
    "---"
   ]
  },
  {
   "cell_type": "markdown",
   "id": "a0d45390-655b-4270-9ed7-757f653c490e",
   "metadata": {},
   "source": [
    "---"
   ]
  },
  {
   "cell_type": "markdown",
   "id": "9d00c696-b2a8-4b30-a40b-da58a49d270c",
   "metadata": {
    "tags": []
   },
   "source": [
    "---\n",
    "\n",
    "# Generate `index.sql`"
   ]
  },
  {
   "cell_type": "markdown",
   "id": "5b6551d6-8a4d-44c7-94db-34aa63915983",
   "metadata": {},
   "source": [
    "---"
   ]
  },
  {
   "cell_type": "code",
   "execution_count": 7,
   "id": "0443e2f7-7da6-4193-96d4-d5fdea19d4a6",
   "metadata": {},
   "outputs": [
    {
     "name": "stdout",
     "output_type": "stream",
     "text": [
      "----------------------------------------\n",
      "-- Add indexes to the tables --\n",
      "----------------------------------------\n",
      "\n",
      "-- Diagnosis Indexes\n",
      "DROP INDEX IF EXISTS idx_diagnosis_patient_id;\n",
      "CREATE INDEX idx_diagnosis_patient_id ON diagnosis(patient_id);\n",
      "\n",
      "-- CREATE INDEX idx_diagnosis_encounter_id ON diagnosis(encounter_id);\n",
      "\n",
      "DROP INDEX IF EXISTS idx_diagnosis_code;\n",
      "CREATE INDEX idx_diagnosis_code ON diagnosis(code);\n",
      "\n",
      "DROP INDEX IF EXISTS idx_diagnosis_date;\n",
      "CREATE INDEX idx_diagnosis_date ON diagnosis(date);\n",
      "\n",
      "DROP INDEX IF EXISTS idx_diagnosis_code_date;\n",
      "CREATE INDEX idx_diagnosis_code_date ON diagnosis(code, date);\n",
      "\n",
      "\n",
      "\n",
      "-- Encounter Indexes\n",
      "DROP INDEX IF EXISTS idx_encounter_patient_id;\n",
      "CREATE INDEX idx_encounter_patient_id ON encounter(patient_id);\n",
      "\n",
      "\n",
      "\n",
      "-- Lab Result Indexes\n",
      "DROP INDEX IF EXISTS idx_lab_result_patient_id;\n",
      "CREATE INDEX idx_lab_result_patient_id ON lab_result(patient_id);\n",
      "\n",
      "-- CREATE INDEX idx_lab_result_encounter_id ON lab_result(encounter_id);\n",
      "\n",
      "DROP INDEX IF EXISTS idx_lab_result_code;\n",
      "CREATE INDEX idx_lab_result_code ON lab_result(code);\n",
      "\n",
      "DROP INDEX IF EXISTS idx_lab_result_date;\n",
      "CREATE INDEX idx_lab_result_date ON lab_result(date);\n",
      "\n",
      "DROP INDEX IF EXISTS idx_lab_result_code_date;\n",
      "CREATE INDEX idx_lab_result_code_date ON lab_result(code, date);\n",
      "\n",
      "\n",
      "\n",
      "-- Medication Indexes\n",
      "DROP INDEX IF EXISTS idx_medication_patient_id;\n",
      "CREATE INDEX idx_medication_patient_id ON medication(patient_id);\n",
      "\n",
      "-- CREATE INDEX idx_medication_encounter_id ON medication(encounter_id);\n",
      "\n",
      "DROP INDEX IF EXISTS idx_medication_code;\n",
      "CREATE INDEX idx_medication_code ON medication(code);\n",
      "\n",
      "DROP INDEX IF EXISTS idx_medication_start_date;\n",
      "CREATE INDEX idx_medication_start_date ON medication(start_date);\n",
      "\n",
      "DROP INDEX IF EXISTS idx_medication_code_start_date;\n",
      "CREATE INDEX idx_medication_code_start_date ON medication(code, start_date);\n",
      "\n",
      "\n",
      "\n",
      "-- Procedure Indexes\n",
      "-- CREATE INDEX idx_procedure_patient_id ON procedure(patient_id);\n",
      "-- -- CREATE INDEX idx_procedure_encounter_id ON procedure(encounter_id);\n",
      "-- CREATE INDEX idx_procedure_code ON procedure(code);\n",
      "-- CREATE INDEX idx_procedure_date ON procedure(date);\n",
      "\n",
      "-- Vital Sign Indexes\n",
      "-- CREATE INDEX idx_vital_sign_patient_id ON vital_sign(patient_id);\n",
      "-- -- CREATE INDEX idx_vital_sign_encounter_id ON vital_sign(encounter_id);\n",
      "-- CREATE INDEX idx_vital_sign_code ON vital_sign(code);\n",
      "-- CREATE INDEX idx_vital_sign_date ON vital_sign(date);\n",
      "-- CREATE INDEX idx_vital_sign_code_date ON vital_sign(code, date);\n"
     ]
    }
   ],
   "source": [
    "val = \"\"\"----------------------------------------\n",
    "-- Add indexes to the tables --\n",
    "----------------------------------------\n",
    "\n",
    "-- Diagnosis Indexes\n",
    "DROP INDEX IF EXISTS idx_diagnosis_patient_id;\n",
    "CREATE INDEX idx_diagnosis_patient_id ON diagnosis(patient_id);\n",
    "\n",
    "-- CREATE INDEX idx_diagnosis_encounter_id ON diagnosis(encounter_id);\n",
    "\n",
    "DROP INDEX IF EXISTS idx_diagnosis_code;\n",
    "CREATE INDEX idx_diagnosis_code ON diagnosis(code);\n",
    "\n",
    "DROP INDEX IF EXISTS idx_diagnosis_date;\n",
    "CREATE INDEX idx_diagnosis_date ON diagnosis(date);\n",
    "\n",
    "DROP INDEX IF EXISTS idx_diagnosis_code_date;\n",
    "CREATE INDEX idx_diagnosis_code_date ON diagnosis(code, date);\n",
    "\n",
    "\n",
    "\n",
    "-- Encounter Indexes\n",
    "DROP INDEX IF EXISTS idx_encounter_patient_id;\n",
    "CREATE INDEX idx_encounter_patient_id ON encounter(patient_id);\n",
    "\n",
    "\n",
    "\n",
    "-- Lab Result Indexes\n",
    "DROP INDEX IF EXISTS idx_lab_result_patient_id;\n",
    "CREATE INDEX idx_lab_result_patient_id ON lab_result(patient_id);\n",
    "\n",
    "-- CREATE INDEX idx_lab_result_encounter_id ON lab_result(encounter_id);\n",
    "\n",
    "DROP INDEX IF EXISTS idx_lab_result_code;\n",
    "CREATE INDEX idx_lab_result_code ON lab_result(code);\n",
    "\n",
    "DROP INDEX IF EXISTS idx_lab_result_date;\n",
    "CREATE INDEX idx_lab_result_date ON lab_result(date);\n",
    "\n",
    "DROP INDEX IF EXISTS idx_lab_result_code_date;\n",
    "CREATE INDEX idx_lab_result_code_date ON lab_result(code, date);\n",
    "\n",
    "\n",
    "\n",
    "-- Medication Indexes\n",
    "DROP INDEX IF EXISTS idx_medication_patient_id;\n",
    "CREATE INDEX idx_medication_patient_id ON medication(patient_id);\n",
    "\n",
    "-- CREATE INDEX idx_medication_encounter_id ON medication(encounter_id);\n",
    "\n",
    "DROP INDEX IF EXISTS idx_medication_code;\n",
    "CREATE INDEX idx_medication_code ON medication(code);\n",
    "\n",
    "DROP INDEX IF EXISTS idx_medication_start_date;\n",
    "CREATE INDEX idx_medication_start_date ON medication(start_date);\n",
    "\n",
    "DROP INDEX IF EXISTS idx_medication_code_start_date;\n",
    "CREATE INDEX idx_medication_code_start_date ON medication(code, start_date);\n",
    "\n",
    "\n",
    "\n",
    "-- Procedure Indexes\n",
    "-- CREATE INDEX idx_procedure_patient_id ON procedure(patient_id);\n",
    "-- -- CREATE INDEX idx_procedure_encounter_id ON procedure(encounter_id);\n",
    "-- CREATE INDEX idx_procedure_code ON procedure(code);\n",
    "-- CREATE INDEX idx_procedure_date ON procedure(date);\n",
    "\n",
    "-- Vital Sign Indexes\n",
    "-- CREATE INDEX idx_vital_sign_patient_id ON vital_sign(patient_id);\n",
    "-- -- CREATE INDEX idx_vital_sign_encounter_id ON vital_sign(encounter_id);\n",
    "-- CREATE INDEX idx_vital_sign_code ON vital_sign(code);\n",
    "-- CREATE INDEX idx_vital_sign_date ON vital_sign(date);\n",
    "-- CREATE INDEX idx_vital_sign_code_date ON vital_sign(code, date);\n",
    "\"\"\"\n",
    "\n",
    "# Write to SQL file\n",
    "with open('index.sql', 'w') as f:\n",
    "    f.write(val)\n",
    "\n",
    "# print(val)\n",
    "!cat index.sql"
   ]
  },
  {
   "cell_type": "markdown",
   "id": "d12d8673-cf6b-486d-b237-13fc98d4fa26",
   "metadata": {},
   "source": [
    "---"
   ]
  },
  {
   "cell_type": "markdown",
   "id": "80c0e4fc-99ce-43cc-b8e3-08a50812fb3b",
   "metadata": {},
   "source": [
    "---"
   ]
  },
  {
   "cell_type": "markdown",
   "id": "345c4a6c-d9bd-4767-95bd-7f59ac737003",
   "metadata": {
    "tags": []
   },
   "source": [
    "# Run `index.sql`"
   ]
  },
  {
   "cell_type": "markdown",
   "id": "ea790b87-be05-4393-ac8a-c245c689bd3e",
   "metadata": {},
   "source": [
    "## `psql -d diabetes -v ON_ERROR_STOP=1 -v diabetes_data_dir=/scratch/general/vast/u0740821/ -f /uufs/chpc.utah.edu/common/home/u0740821/dissertation/data/diabetes/index.sql`\n",
    "---\n",
    "```\n",
    "NOTICE:  index \"idx_diagnosis_patient_id\" does not exist, skipping\n",
    "DROP INDEX\n",
    "CREATE INDEX\n",
    "NOTICE:  index \"idx_diagnosis_code\" does not exist, skipping\n",
    "DROP INDEX\n",
    "CREATE INDEX\n",
    "NOTICE:  index \"idx_diagnosis_date\" does not exist, skipping\n",
    "DROP INDEX\n",
    "CREATE INDEX\n",
    "NOTICE:  index \"idx_diagnosis_code_date\" does not exist, skipping\n",
    "DROP INDEX\n",
    "CREATE INDEX\n",
    "NOTICE:  index \"idx_encounter_patient_id\" does not exist, skipping\n",
    "DROP INDEX\n",
    "CREATE INDEX\n",
    "NOTICE:  index \"idx_lab_result_patient_id\" does not exist, skipping\n",
    "DROP INDEX\n",
    "CREATE INDEX\n",
    "NOTICE:  index \"idx_lab_result_code\" does not exist, skipping\n",
    "DROP INDEX\n",
    "CREATE INDEX\n",
    "NOTICE:  index \"idx_lab_result_date\" does not exist, skipping\n",
    "DROP INDEX\n",
    "CREATE INDEX\n",
    "NOTICE:  index \"idx_lab_result_code_date\" does not exist, skipping\n",
    "DROP INDEX\n",
    "CREATE INDEX\n",
    "NOTICE:  index \"idx_medication_patient_id\" does not exist, skipping\n",
    "DROP INDEX\n",
    "CREATE INDEX\n",
    "NOTICE:  index \"idx_medication_code\" does not exist, skipping\n",
    "DROP INDEX\n",
    "CREATE INDEX\n",
    "NOTICE:  index \"idx_medication_start_date\" does not exist, skipping\n",
    "DROP INDEX\n",
    "CREATE INDEX\n",
    "NOTICE:  index \"idx_medication_code_start_date\" does not exist, skipping\n",
    "DROP INDEX\n",
    "CREATE INDEX\n",
    "```"
   ]
  },
  {
   "cell_type": "markdown",
   "id": "902c1d96-f8e6-4cb4-b316-4767b98768a3",
   "metadata": {},
   "source": [
    "---"
   ]
  },
  {
   "cell_type": "markdown",
   "id": "4af5a4ae-77f7-4696-80a8-6022dae8b81b",
   "metadata": {},
   "source": [
    "---"
   ]
  },
  {
   "cell_type": "markdown",
   "id": "a40cb03c-7fc8-4876-873b-eb5c5fe99ef0",
   "metadata": {},
   "source": [
    "---"
   ]
  },
  {
   "cell_type": "markdown",
   "id": "160bf48f-3496-4e74-ba23-61f3fff62033",
   "metadata": {},
   "source": [
    "\n",
    "# Check Size\n"
   ]
  },
  {
   "cell_type": "markdown",
   "id": "c1e14116-6647-43ee-b15d-2da8346aad4e",
   "metadata": {},
   "source": [
    "---"
   ]
  },
  {
   "cell_type": "code",
   "execution_count": 8,
   "id": "600b9170-e170-42d3-b872-23073e8729cc",
   "metadata": {},
   "outputs": [
    {
     "name": "stdout",
     "output_type": "stream",
     "text": [
      "1.6T\tpgsql/\n"
     ]
    }
   ],
   "source": [
    "!du -sh pgsql/"
   ]
  }
 ],
 "metadata": {
  "kernelspec": {
   "display_name": "Python 3 (ipykernel)",
   "language": "python",
   "name": "python3"
  },
  "language_info": {
   "codemirror_mode": {
    "name": "ipython",
    "version": 3
   },
   "file_extension": ".py",
   "mimetype": "text/x-python",
   "name": "python",
   "nbconvert_exporter": "python",
   "pygments_lexer": "ipython3",
   "version": "3.9.12"
  }
 },
 "nbformat": 4,
 "nbformat_minor": 5
}
